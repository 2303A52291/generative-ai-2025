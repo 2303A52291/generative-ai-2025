{
  "nbformat": 4,
  "nbformat_minor": 0,
  "metadata": {
    "colab": {
      "provenance": [],
      "authorship_tag": "ABX9TyOk33UrB2YHJeP7/AtmLtW2",
      "include_colab_link": true
    },
    "kernelspec": {
      "name": "python3",
      "display_name": "Python 3"
    },
    "language_info": {
      "name": "python"
    }
  },
  "cells": [
    {
      "cell_type": "markdown",
      "metadata": {
        "id": "view-in-github",
        "colab_type": "text"
      },
      "source": [
        "<a href=\"https://colab.research.google.com/github/2303A52291/generative-ai-2025/blob/main/generative_assignment_2.ipynb\" target=\"_parent\"><img src=\"https://colab.research.google.com/assets/colab-badge.svg\" alt=\"Open In Colab\"/></a>"
      ]
    },
    {
      "cell_type": "markdown",
      "source": [
        "1.assignment 2"
      ],
      "metadata": {
        "id": "z73Pyps4fnvR"
      }
    },
    {
      "cell_type": "code",
      "source": [
        "from scipy.optimize import linprog\n",
        "\n",
        "\n",
        "c = [-6, -5]\n",
        "\n",
        "\n",
        "A = [[1, 1], [3, 2]]\n",
        "b = [5, 12]\n",
        "\n",
        "\n",
        "x_bounds = (0, None)\n",
        "y_bounds = (0, None)\n",
        "\n",
        "result = linprog(c, A_ub=A, b_ub=b, bounds=[x_bounds, y_bounds], method='simplex')\n",
        "\n",
        "\n",
        "if result.success:\n",
        "    x, y = result.x\n",
        "    print(f\"Optimal production: {x:.2f} units of A, {y:.2f} units of B\")\n",
        "    print(f\"Maximum profit: Rs {result.fun * -1:.2f}\")\n",
        "else:\n",
        "    print(\"No solution found.\")"
      ],
      "metadata": {
        "colab": {
          "base_uri": "https://localhost:8080/"
        },
        "id": "yLTL5zeEmseQ",
        "outputId": "a6fc974a-fabd-459b-c3f8-8c723784884e"
      },
      "execution_count": 1,
      "outputs": [
        {
          "output_type": "stream",
          "name": "stdout",
          "text": [
            "Optimal production: 2.00 units of A, 3.00 units of B\n",
            "Maximum profit: Rs 27.00\n"
          ]
        },
        {
          "output_type": "stream",
          "name": "stderr",
          "text": [
            "<ipython-input-1-f0c7c564c6f7>:14: DeprecationWarning: `method='simplex'` is deprecated and will be removed in SciPy 1.11.0. Please use one of the HiGHS solvers (e.g. `method='highs'`) in new code.\n",
            "  result = linprog(c, A_ub=A, b_ub=b, bounds=[x_bounds, y_bounds], method='simplex')\n"
          ]
        }
      ]
    },
    {
      "cell_type": "markdown",
      "source": [
        "2.assignment"
      ],
      "metadata": {
        "id": "1f7pXdwDnKCC"
      }
    },
    {
      "cell_type": "code",
      "source": [
        "from scipy.optimize import linprog\n",
        "\n",
        "\n",
        "c = [-2000, -1200]\n",
        "\n",
        "\n",
        "A = [[1, 1], [7000, 5000], [10, 30]]\n",
        "b = [110, 700000, 1200]\n",
        "\n",
        "\n",
        "x_bounds = (0, None)\n",
        "y_bounds = (0, None)\n",
        "\n",
        "\n",
        "result = linprog(c, A_ub=A, b_ub=b, bounds=[x_bounds, y_bounds], method='simplex')\n",
        "\n",
        "\n",
        "if result.success:\n",
        "    x, y = result.x\n",
        "    print(f\"Optimal planting: {x:.2f} hectares of Wheat, {y:.2f} hectares of Barley\")\n",
        "    print(f\"Maximum profit: Rs {result.fun * -1:.2f}\")\n",
        "else:\n",
        "    print(\"No solution found.\")"
      ],
      "metadata": {
        "colab": {
          "base_uri": "https://localhost:8080/"
        },
        "id": "wrLXFqjgnOIw",
        "outputId": "7f4c72f7-beb0-459b-d4bc-5253bac87aca"
      },
      "execution_count": 2,
      "outputs": [
        {
          "output_type": "stream",
          "name": "stdout",
          "text": [
            "Optimal planting: 100.00 hectares of Wheat, 0.00 hectares of Barley\n",
            "Maximum profit: Rs 200000.00\n"
          ]
        },
        {
          "output_type": "stream",
          "name": "stderr",
          "text": [
            "<ipython-input-2-6f71367341d6>:15: DeprecationWarning: `method='simplex'` is deprecated and will be removed in SciPy 1.11.0. Please use one of the HiGHS solvers (e.g. `method='highs'`) in new code.\n",
            "  result = linprog(c, A_ub=A, b_ub=b, bounds=[x_bounds, y_bounds], method='simplex')\n"
          ]
        }
      ]
    }
  ]
}